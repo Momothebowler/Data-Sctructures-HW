{
 "cells": [
  {
   "cell_type": "markdown",
   "metadata": {},
   "source": [
    "# Homework 04\n",
    "- read up on abstract data types (list, queue, stack, deque) on wikipedia\n",
    "\n",
    "Please fill in: YOUR_NAME_HERE"
   ]
  },
  {
   "cell_type": "markdown",
   "metadata": {},
   "source": [
    "## Introduction"
   ]
  },
  {
   "cell_type": "code",
   "execution_count": null,
   "metadata": {},
   "outputs": [],
   "source": [
    "# Using a Python list (array), observe what the following functions do:\n",
    "s=[2,3,4]\n",
    "s.append(5)\n",
    "s.insert(0, 1)\n",
    "print (s)\n",
    "print (\"s:\",s)\n",
    "print (\"pop(): \", s.pop())\n",
    "print (\"s:\", s)\n",
    "print (\"pop(): \", s.pop())\n",
    "print (\"s:\", s)\n",
    "print (\"pop(0): \", s.pop(0))\n",
    "print (\"s:\", s)"
   ]
  },
  {
   "cell_type": "code",
   "execution_count": null,
   "metadata": {},
   "outputs": [],
   "source": [
    "# plotting works very similar to MATLAB\n",
    "#%matplotlib inline\n",
    "import matplotlib.pyplot as plt\n",
    "x = [10, 50, 100, 150]\n",
    "y = [3, 5, 10, 22]\n",
    "\n",
    "plt.plot(x, y, 'o-')\n",
    "plt.show()"
   ]
  },
  {
   "cell_type": "code",
   "execution_count": null,
   "metadata": {},
   "outputs": [],
   "source": [
    "class MyStack:\n",
    "    \"\"\" simple stack implemented using a Python list (array)\"\"\"\n",
    "    def __init__(self):\n",
    "        self.data = []\n",
    "        \n",
    "    def push(self,x):\n",
    "        self.data.append(x)\n",
    "        \n",
    "    def pop(self):\n",
    "        return self.data.pop()\n",
    "    \n",
    "    def is_empty(self):\n",
    "        return len(self.data) == 0\n",
    "    \n",
    "s = MyStack()\n",
    "s.push(3)\n",
    "s.push(4)\n",
    "s.push(5)\n",
    "print (s.pop(), s.pop(), s.pop())\n",
    "print (s.is_empty())"
   ]
  },
  {
   "cell_type": "code",
   "execution_count": null,
   "metadata": {},
   "outputs": [],
   "source": [
    "def stack_fill_and_empty(n):\n",
    "    S = MyStack()\n",
    "    for item in range(n):\n",
    "        S.push(item)\n",
    "        \n",
    "    while n>0:\n",
    "        S.pop()\n",
    "        n -= 1\n",
    "\n",
    "sizes = [10000, 20000, 40000, 80000, 160000, 320000]\n",
    "for n in sizes:\n",
    "    %timeit stack_fill_and_empty(n)"
   ]
  },
  {
   "cell_type": "code",
   "execution_count": 6,
   "metadata": {},
   "outputs": [],
   "source": [
    "import numpy as np\n",
    "def fit_poly(x,y,k):\n",
    "    n = len(x)\n",
    "    x = np.array(x)\n",
    "    y = np.array(y)\n",
    "    A = np.zeros((n,k+1))\n",
    "    for i in range(k+1):\n",
    "        A[:,i] = np.array(x)**i\n",
    "        \n",
    "    c = np.linalg.lstsq(A,y,rcond=None)[0]\n",
    "    misfit = np.linalg.norm(np.dot(A,c)-y)    \n",
    "    return c, misfit"
   ]
  },
  {
   "cell_type": "code",
   "execution_count": null,
   "metadata": {},
   "outputs": [],
   "source": [
    "x = sizes\n",
    "y = [5, 9.96, 19.9, 41, 80, 167]\n",
    "c, misfit = fit_poly(x, y, 1) # find a good coefficient!\n",
    "print (\"coefficients:\",c)\n",
    "print (\"misfit:\", misfit)"
   ]
  },
  {
   "cell_type": "code",
   "execution_count": null,
   "metadata": {},
   "outputs": [],
   "source": [
    "xx = np.linspace(0,1.5*x[-1],100)\n",
    "yy = xx * 0\n",
    "for idx,cc in enumerate(c):\n",
    "    yy = yy + cc*xx**idx\n",
    "\n",
    "plt.plot(x, y, 'o')\n",
    "plt.plot(xx, yy, 'r')\n",
    "plt.show()"
   ]
  },
  {
   "cell_type": "code",
   "execution_count": null,
   "metadata": {},
   "outputs": [],
   "source": [
    "# alternatively fitting f(x)=c0 x^c1:\n",
    "c, misfit = fit_poly(np.log(x),np.log(y),1)\n",
    "print (\"best fitting polynomial:\",np.exp(c[0]),\"x^\",c[1])"
   ]
  },
  {
   "cell_type": "markdown",
   "metadata": {},
   "source": [
    "We can conclude that pushing n elements to the stack and removing them again takes O(n) time. This means each operation is O(1) (on average!) "
   ]
  },
  {
   "cell_type": "markdown",
   "metadata": {},
   "source": [
    "## 1. Test queue operations using a Python list\n",
    "We first use a Python list (dynamically sized array) as an (inefficient) queue. Our test consists of queueing n elements and then dequeueing all of them. Complete the code below, time for different n, create a fit of the right degree and conclude what the cost of queueing and dequeueing one element is."
   ]
  },
  {
   "cell_type": "code",
   "execution_count": 143,
   "metadata": {},
   "outputs": [
    {
     "name": "stdout",
     "output_type": "stream",
     "text": [
      "7.98 ms ± 523 μs per loop (mean ± std. dev. of 7 runs, 100 loops each)\n",
      "28 ms ± 3.28 ms per loop (mean ± std. dev. of 7 runs, 10 loops each)\n",
      "132 ms ± 7.39 ms per loop (mean ± std. dev. of 7 runs, 10 loops each)\n",
      "692 ms ± 62 ms per loop (mean ± std. dev. of 7 runs, 1 loop each)\n",
      "3.36 s ± 210 ms per loop (mean ± std. dev. of 7 runs, 1 loop each)\n"
     ]
    }
   ],
   "source": [
    "def fill_and_empty_queue_using_list(n):\n",
    "    L = []\n",
    "    for item in range(n):\n",
    "        # queue item in L (add to end):\n",
    "        L.append(item)\n",
    "        \n",
    "    while n>0:\n",
    "        # dequeue item in L (remove from start):\n",
    "        L.pop(0)\n",
    "        n -= 1\n",
    "\n",
    "sizes = [10000,20000,40000,80000,160000]\n",
    "for n in sizes:\n",
    "    %timeit fill_and_empty_queue_using_list(n)"
   ]
  },
  {
   "cell_type": "code",
   "execution_count": 149,
   "metadata": {},
   "outputs": [
    {
     "name": "stdout",
     "output_type": "stream",
     "text": [
      "coefficients: [ 4.56313725e+01 -4.34862239e-03  1.56595193e-07]\n",
      "misfit: 17.368664230553275\n"
     ]
    },
    {
     "data": {
      "image/png": "[encoded data removed]",
      "text/plain": [
       "<Figure size 640x480 with 1 Axes>"
      ]
     },
     "metadata": {},
     "output_type": "display_data"
    }
   ],
   "source": [
    "x = sizes\n",
    "y = [7.98,28,132,692,3360]\n",
    "\n",
    "c, misfit = fit_poly(x,y,2)\n",
    "print (\"coefficients:\",c )\n",
    "print (\"misfit:\", misfit)\n",
    "\n",
    "xx = np.linspace(0,x[-1],100)\n",
    "yy = xx * 0\n",
    "for idx,cc in enumerate(c):\n",
    "    yy = yy + cc*xx**idx\n",
    "\n",
    "plt.plot(x, y, 'o')\n",
    "plt.plot(xx, yy, 'r')\n",
    "plt.show()"
   ]
  },
  {
   "cell_type": "code",
   "execution_count": 145,
   "metadata": {},
   "outputs": [
    {
     "name": "stdout",
     "output_type": "stream",
     "text": [
      "best fitting polynomial: 1.956546648433626e-07 x^ 1.9092133193675638\n"
     ]
    }
   ],
   "source": [
    "c, misfit = fit_poly(np.log(x),np.log(y),1)\n",
    "print (\"best fitting polynomial:\",np.exp(c[0]),\"x^\",c[1])"
   ]
  },
  {
   "cell_type": "markdown",
   "metadata": {},
   "source": [
    "fill_and_empty_queue_using_list(n) takes O(n^2). To conclude:\n",
    "1. enqueue one element (append to a list) takes O(1)\n",
    "2. dequeuing one element (remove from the left) takes O(n)\n",
    "3. while removing the last element in a list takes O(1).\n",
    "\n",
    "# Since 2 takes O(n) and we have n elements, it's O(n^2)."
   ]
  },
  {
   "cell_type": "markdown",
   "metadata": {},
   "source": [
    "## 2. Using a deque\n",
    "First determine the correct functions to call to enqueue (add to the right) and dequeue (pop from the left) an element from a deque. Try it out in the next block (it should print 1, then 2, then 3).\n",
    "Then complete dequeue_fill_and_empty() with those commands, benchmark it, fit a curve, and conclude."
   ]
  },
  {
   "cell_type": "code",
   "execution_count": 150,
   "metadata": {},
   "outputs": [
    {
     "name": "stdout",
     "output_type": "stream",
     "text": [
      "1\n",
      "2\n",
      "3\n"
     ]
    }
   ],
   "source": [
    "from collections import deque\n",
    "Q = deque()\n",
    "Q.append(1) # enqueue 1\n",
    "Q.append(2) # enqueue 2\n",
    "Q.append(3) # enqueue 3\n",
    "print (Q.popleft()) # dequeue and print\n",
    "print (Q.popleft()) # dequeue and print\n",
    "print (Q.popleft()) # dequeue and print"
   ]
  },
  {
   "cell_type": "code",
   "execution_count": 147,
   "metadata": {},
   "outputs": [
    {
     "name": "stdout",
     "output_type": "stream",
     "text": [
      "1.9 ms ± 223 μs per loop (mean ± std. dev. of 7 runs, 1,000 loops each)\n",
      "3.11 ms ± 232 μs per loop (mean ± std. dev. of 7 runs, 100 loops each)\n",
      "5.79 ms ± 325 μs per loop (mean ± std. dev. of 7 runs, 100 loops each)\n",
      "11.3 ms ± 287 μs per loop (mean ± std. dev. of 7 runs, 100 loops each)\n",
      "25.1 ms ± 3.73 ms per loop (mean ± std. dev. of 7 runs, 10 loops each)\n"
     ]
    }
   ],
   "source": [
    "def dequeue_fill_and_empty(n):\n",
    "    L = deque()\n",
    "    for item in range(n):\n",
    "        L.append(item) # enqueue\n",
    "        \n",
    "    while n>0:\n",
    "        L.popleft() # now dequeue\n",
    "        n -= 1\n",
    "\n",
    "sizes = [10000,20000,40000,80000,160000]\n",
    "for n in sizes:\n",
    "    %timeit dequeue_fill_and_empty(n)"
   ]
  },
  {
   "cell_type": "code",
   "execution_count": 151,
   "metadata": {},
   "outputs": [
    {
     "name": "stdout",
     "output_type": "stream",
     "text": [
      "coefficients: [ 1.08849675e-08  1.66686185e-04 -5.89617195e-10  3.30275087e-15]\n",
      "misfit: 0.32717492784959223\n"
     ]
    },
    {
     "data": {
      "image/png": "[encoded data removed]",
      "text/plain": [
       "<Figure size 640x480 with 1 Axes>"
      ]
     },
     "metadata": {},
     "output_type": "display_data"
    }
   ],
   "source": [
    "x = sizes\n",
    "y = [1.9,3.11,5.79,11.3,25.1]\n",
    "\n",
    "c, misfit = fit_poly(x,y,3)\n",
    "print (\"coefficients:\",c)\n",
    "print (\"misfit:\", misfit)\n",
    "\n",
    "xx = np.linspace(0,x[-1],100)\n",
    "yy = xx * 0\n",
    "for idx,cc in enumerate(c):\n",
    "    yy = yy + cc*xx**idx\n",
    "\n",
    "plt.plot(x, y, 'o')\n",
    "plt.plot(xx, yy, 'r')\n",
    "plt.show()"
   ]
  },
  {
   "cell_type": "markdown",
   "metadata": {},
   "source": [
    "Filling and emptying a queue (n elements) based on Python's deque takes: O(n). Therefore, a single enqueue() or dequeue() takes: O(1). Read up on wikipedia on \"deque\" and state the cost for the operations for:\n",
    "1. add element on left: O(1)\n",
    "2. add element on right: O(1)\n",
    "3. remove element on left: O(1)\n",
    "4. remove element on right: O(1)\n",
    "\n",
    "Is that what you see? Yes as we do each of above n times. (More or less)"
   ]
  },
  {
   "cell_type": "markdown",
   "metadata": {},
   "source": [
    "## Question 3: Now implement a deque using a doubly-linked list\n",
    "Complete the implementation, make sure the tests work, and finally time the operations."
   ]
  },
  {
   "cell_type": "code",
   "execution_count": 139,
   "metadata": {},
   "outputs": [
    {
     "name": "stdout",
     "output_type": "stream",
     "text": [
      "[[ 0 1 2 3 4 ]]\n",
      "pop_left: 0\n",
      "pop_right: 4\n",
      "[[ 1 2 3 ]]\n",
      "pop_left: 1\n",
      "[[ 2 3 ]]\n",
      "pop_left: 2\n",
      "pop_right: 3\n",
      "[[ ]]\n",
      "pop_left: None\n",
      "pop_right: None\n",
      "[[ ]]\n"
     ]
    }
   ],
   "source": [
    "class MyDeque:\n",
    "    \"\"\" a double-ended queue implemented using a linked list\"\"\"\n",
    " \n",
    "    class ListItem:\n",
    "        \"\"\" an item in a doubly-linked list\"\"\"\n",
    "        def __init__(self, x, prev, next):\n",
    "            self.item = x\n",
    "            self.next = next\n",
    "            self.prev = prev\n",
    "\n",
    "    def __init__(self):\n",
    "        self.head = None\n",
    "        self.tail = None\n",
    "        \n",
    "    def push_right(self, x):\n",
    "        if self.head == None:\n",
    "            self.head = MyDeque.ListItem(x,None, None)\n",
    "            self.tail = self.head\n",
    "        else:\n",
    "            n = MyDeque.ListItem(x, self.tail, None)\n",
    "            self.tail.next = n\n",
    "            self.tail = n\n",
    "            \n",
    "    def push_left(self, x):\n",
    "        # TODO\n",
    "        if self.head == None:\n",
    "            self.head = MyDeque.ListItem(x,None, None)\n",
    "            self.tail = self.head\n",
    "        else:\n",
    "            n = MyDeque.ListItem(x, None, self.head)\n",
    "            self.head.prev = n\n",
    "            self.head = n\n",
    "   \n",
    "    def pop_left(self):\n",
    "        if self.head == None:\n",
    "            return None\n",
    "        \n",
    "        item = self.head.item\n",
    "        \n",
    "        if self.head.next == None:\n",
    "            self.head = None\n",
    "            self.tail = None\n",
    "            return item\n",
    "        \n",
    "        self.head = self.head.next\n",
    "        if self.head != None:\n",
    "            self.head.prev = None\n",
    "        \n",
    "        # TODO: actually remove it\n",
    "        \n",
    "        #pass\n",
    "        return item\n",
    "    \n",
    "    def pop_right(self):\n",
    "        if self.head == None:\n",
    "            return None\n",
    "        item = self.tail.item\n",
    "        \n",
    "        if self.head.next == None:\n",
    "            self.head = None\n",
    "            self.tail = None\n",
    "            return item\n",
    "        \n",
    "        if self.tail.prev != None:\n",
    "            self.tail = self.tail.prev\n",
    "         \n",
    "        self.tail.next = None\n",
    "            \n",
    "        return item\n",
    "    \n",
    "    def print_it(self):\n",
    "        it = self.head\n",
    "        print (\"[[ \", end=\"\")\n",
    "        while it != None:\n",
    "            print (it.item, end=\" \")\n",
    "            it = it.next\n",
    "        print (\"]]\")\n",
    "\n",
    "Q = MyDeque()\n",
    "Q.push_right(1)\n",
    "Q.push_right(2)\n",
    "Q.push_right(3)\n",
    "Q.push_left(0)\n",
    "Q.push_right(4)\n",
    "Q.print_it()\n",
    "print (\"pop_left:\", Q.pop_left())\n",
    "print (\"pop_right:\", Q.pop_right())\n",
    "Q.print_it()\n",
    "print (\"pop_left:\", Q.pop_left())\n",
    "Q.print_it()\n",
    "print (\"pop_left:\", Q.pop_left())\n",
    "print (\"pop_right:\", Q.pop_right())\n",
    "Q.print_it()\n",
    "print (\"pop_left:\", Q.pop_left())\n",
    "print (\"pop_right:\", Q.pop_right())\n",
    "Q.print_it()"
   ]
  },
  {
   "cell_type": "code",
   "execution_count": 142,
   "metadata": {},
   "outputs": [],
   "source": [
    "# this will create a graphical visualization of the data structure (ignore if this doesn't work)\n",
    "import lolviz\n",
    "Q = MyDeque()\n",
    "Q.push_right(1)\n",
    "Q.push_right(2)\n",
    "Q.push_left(0)\n",
    "lolviz.objviz(Q)"
   ]
  },
  {
   "cell_type": "code",
   "execution_count": 140,
   "metadata": {},
   "outputs": [
    {
     "name": "stdout",
     "output_type": "stream",
     "text": [
      "[[ 0 1 2 3 4 ]]\n",
      "[[ 4 3 2 1 0 ]]\n",
      "[[ 0 1 2 3 4 ]]\n",
      "[[ 4 3 2 1 0 ]]\n",
      "ok\n"
     ]
    }
   ],
   "source": [
    "# some more tests:\n",
    "\n",
    "Q = MyDeque()\n",
    "Q.push_left(1)\n",
    "Q.push_right(2)\n",
    "assert(Q.head.item == 1)\n",
    "assert(Q.tail.item == 2)\n",
    "assert(Q.head.next == Q.tail)\n",
    "assert(Q.head.prev == None)\n",
    "assert(Q.tail.prev == Q.head)\n",
    "assert(Q.pop_right()==2)\n",
    "assert(Q.head.item == 1)\n",
    "assert(Q.head == Q.tail)\n",
    "assert(Q.head.prev == None)\n",
    "assert(Q.head.next == None)\n",
    "assert(Q.pop_right()==1)\n",
    "assert(Q.head == None)\n",
    "assert(Q.tail == None)\n",
    "\n",
    "for n in range(5):\n",
    "    Q.push_right(n)\n",
    "Q.print_it()    \n",
    "for n in range(5):\n",
    "    assert(Q.pop_left()==n)\n",
    "assert(Q.pop_left()==None) \n",
    "\n",
    "for n in range(5):\n",
    "    Q.push_left(n)\n",
    "Q.print_it()\n",
    "for n in range(5):\n",
    "    assert(Q.pop_right()==n)\n",
    "assert(Q.pop_right()==None)\n",
    "\n",
    "for n in range(5):\n",
    "    Q.push_right(n)\n",
    "Q.print_it()\n",
    "for n in range(5):\n",
    "    assert(Q.pop_right()==4-n)\n",
    "    \n",
    "for n in range(5):\n",
    "    Q.push_left(n)\n",
    "Q.print_it()\n",
    "for n in range(5):\n",
    "    assert(Q.pop_left()==4-n)\n",
    "\n",
    "print (\"ok\")"
   ]
  },
  {
   "cell_type": "code",
   "execution_count": 141,
   "metadata": {},
   "outputs": [
    {
     "name": "stdout",
     "output_type": "stream",
     "text": [
      "20.8 ms ± 1.17 ms per loop (mean ± std. dev. of 7 runs, 10 loops each)\n",
      "43.2 ms ± 3.76 ms per loop (mean ± std. dev. of 7 runs, 10 loops each)\n",
      "93.6 ms ± 6.99 ms per loop (mean ± std. dev. of 7 runs, 10 loops each)\n",
      "168 ms ± 8.11 ms per loop (mean ± std. dev. of 7 runs, 10 loops each)\n",
      "329 ms ± 17.2 ms per loop (mean ± std. dev. of 7 runs, 1 loop each)\n"
     ]
    }
   ],
   "source": [
    "def test_our_deque(n):\n",
    "    Q = MyDeque()\n",
    "    for idx in range(n):\n",
    "        Q.push_right(n)\n",
    "        Q.push_left(n)\n",
    "        \n",
    "    for idx in range(n):\n",
    "        Q.pop_left()\n",
    "        Q.pop_right()\n",
    "\n",
    "sizes = [10000, 20000, 40000, 80000, 160000]\n",
    "for n in sizes:\n",
    "    %timeit test_our_deque(n)"
   ]
  },
  {
   "cell_type": "markdown",
   "metadata": {},
   "source": [
    "test_our_deque() takes: O(n). Therefore, all operations take O(1) as expected!"
   ]
  }
 ],
 "metadata": {
  "kernelspec": {
   "display_name": "Python 3 (ipykernel)",
   "language": "python",
   "name": "python3"
  },
  "language_info": {
   "codemirror_mode": {
    "name": "ipython",
    "version": 3
   },
   "file_extension": ".py",
   "mimetype": "text/x-python",
   "name": "python",
   "nbconvert_exporter": "python",
   "pygments_lexer": "ipython3",
   "version": "3.10.0"
  },
  "name": "HW04.ipynb"
 },
 "nbformat": 4,
 "nbformat_minor": 4
}
