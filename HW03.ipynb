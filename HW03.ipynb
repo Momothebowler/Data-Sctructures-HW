{
 "cells": [
  {
   "cell_type": "markdown",
   "metadata": {},
   "source": [
    "# Homework 03\n",
    "\n",
    "Please fill in: Morgan Schalizki"
   ]
  },
  {
   "cell_type": "code",
   "execution_count": 14,
   "metadata": {},
   "outputs": [
    {
     "name": "stdout",
     "output_type": "stream",
     "text": [
      "x: 5 y: hello\n",
      "x: hello y: 5\n"
     ]
    }
   ],
   "source": [
    "# Note: You can swap the contents of two variables in the following way (this will be useful below):\n",
    "x = 5\n",
    "y = \"hello\"\n",
    "print(\"x:\", x, \"y:\", y)\n",
    "x,y = y,x\n",
    "print(\"x:\", x, \"y:\", y)"
   ]
  },
  {
   "cell_type": "markdown",
   "metadata": {},
   "source": [
    "## Question 1\n",
    "Implement selection sort as discussed in class"
   ]
  },
  {
   "cell_type": "code",
   "execution_count": 15,
   "metadata": {},
   "outputs": [],
   "source": [
    "def selection_sort(arr):\n",
    "    \"\"\" sort the given array in-place (by swapping elements) \n",
    "    using selection sort\"\"\"\n",
    "    n = len(arr)\n",
    "    for i in range(0, n): #Was n-1 for some reason?\n",
    "        # TODO\n",
    "        smallest = i\n",
    "        for j in range(i+1,n):\n",
    "            if arr[j] < arr[smallest]:\n",
    "                smallest = j\n",
    "                \n",
    "        if smallest != i:\n",
    "            arr[smallest],arr[i] = arr[i],arr[smallest]\n",
    "        \n"
   ]
  },
  {
   "cell_type": "code",
   "execution_count": 16,
   "metadata": {},
   "outputs": [
    {
     "name": "stdout",
     "output_type": "stream",
     "text": [
      "[5] -> [5]\n",
      "[1, 7, 2, 8, 7] -> [1, 2, 7, 7, 8]\n",
      "[4, 3, 2, 1] -> [1, 2, 3, 4]\n",
      "[1, 2, 3, 4] -> [1, 2, 3, 4]\n",
      "[] -> []\n"
     ]
    }
   ],
   "source": [
    "# Run the following code and check the output to confirm your implementation is correct:\n",
    "a=[5]\n",
    "print (a, end=\" -> \")\n",
    "selection_sort(a)\n",
    "print (a)\n",
    "\n",
    "a=[1,7,2,8,7]\n",
    "print (a, end=\" -> \")\n",
    "selection_sort(a)\n",
    "print (a)\n",
    "\n",
    "a=[4,3,2,1]\n",
    "print (a, end=\" -> \")\n",
    "selection_sort(a)\n",
    "print (a)\n",
    "\n",
    "a=[1,2,3,4]\n",
    "print (a, end=\" -> \")\n",
    "selection_sort(a)\n",
    "print (a)\n",
    "\n",
    "a=[]\n",
    "print (a, end=\" -> \")\n",
    "selection_sort(a)\n",
    "print (a)"
   ]
  },
  {
   "cell_type": "markdown",
   "metadata": {},
   "source": [
    "## Question 2\n",
    "Implement insertion sort as discussed in class"
   ]
  },
  {
   "cell_type": "code",
   "execution_count": 17,
   "metadata": {},
   "outputs": [],
   "source": [
    "def insertion_sort(arr):\n",
    "    \"\"\" sort the given array in-place (by swapping elements)\n",
    "    using insertion sort\"\"\"\n",
    "    n = len(arr)\n",
    "    for i in range(1, n):\n",
    "        current_place = i-1\n",
    "        while current_place >= 0 and arr[current_place+1] < arr[current_place]:\n",
    "            arr[current_place+1],arr[current_place] = arr[current_place],arr[current_place+1]\n",
    "            current_place -= 1\n",
    "    return arr"
   ]
  },
  {
   "cell_type": "code",
   "execution_count": 18,
   "metadata": {},
   "outputs": [
    {
     "name": "stdout",
     "output_type": "stream",
     "text": [
      "[5] -> [5]\n",
      "[1, 7, 2, 8, 7] -> [1, 2, 7, 7, 8]\n",
      "[4, 3, 2, 1] -> [1, 2, 3, 4]\n",
      "[1, 2, 3, 4] -> [1, 2, 3, 4]\n",
      "[] -> []\n"
     ]
    }
   ],
   "source": [
    "# Run the following code and check the output to confirm your implementation is correct:\n",
    "a=[5]\n",
    "print (a, end=\" -> \")\n",
    "insertion_sort(a)\n",
    "print (a)\n",
    "\n",
    "a=[1,7,2,8,7]\n",
    "print (a, end=\" -> \")\n",
    "insertion_sort(a)\n",
    "print (a)\n",
    "\n",
    "a=[4,3,2,1]\n",
    "print (a, end=\" -> \")\n",
    "insertion_sort(a)\n",
    "print (a)\n",
    "\n",
    "a=[1,2,3,4]\n",
    "print (a, end=\" -> \")\n",
    "insertion_sort(a)\n",
    "print (a)\n",
    "\n",
    "a=[]\n",
    "print (a, end=\" -> \")\n",
    "insertion_sort(a)\n",
    "print (a)"
   ]
  },
  {
   "cell_type": "markdown",
   "metadata": {},
   "source": [
    "## Question 3\n",
    "\n",
    "finish the implementation of merge sort."
   ]
  },
  {
   "cell_type": "code",
   "execution_count": 19,
   "metadata": {},
   "outputs": [
    {
     "data": {
      "text/plain": [
       "[1, 2, 3, 4, 7, 10, 11]"
      ]
     },
     "execution_count": 19,
     "metadata": {},
     "output_type": "execute_result"
    }
   ],
   "source": [
    "def merge(left, right):\n",
    "    \"\"\" merge the two arrays into a sorted array assuming\n",
    "        left and right are already sorted individually \"\"\"\n",
    "    result = []\n",
    "    while left and right:\n",
    "        if left[0] < right[0]:\n",
    "            result.append(left[0])\n",
    "            left.pop(0)\n",
    "        else:\n",
    "            result.append(right[0])\n",
    "            right.pop(0)\n",
    "    if left:\n",
    "        result += left\n",
    "    if right:\n",
    "        result += right\n",
    "    return result\n",
    "\n",
    "def merge_sort(arr):\n",
    "    \"\"\" sort the given array using merge sort and return \n",
    "        the new result (the original array is unchanged) \"\"\"\n",
    "    \n",
    "    if len(arr)<=1:\n",
    "        return arr\n",
    "    \n",
    "    # integer division to find the middle index:\n",
    "    mid = len(arr)//2  \n",
    "    arr_lower = arr[:mid]\n",
    "    arr_upper = arr[mid:]\n",
    "\n",
    "    sorted_lower = merge_sort(arr_lower)\n",
    "    sorted_upper = merge_sort(arr_upper)\n",
    "    result = merge(sorted_lower,sorted_upper)\n",
    "    \n",
    "    return result\n",
    "\n",
    "merge_sort([1,4,7,2,3,10,11])"
   ]
  },
  {
   "cell_type": "code",
   "execution_count": 20,
   "metadata": {},
   "outputs": [
    {
     "name": "stdout",
     "output_type": "stream",
     "text": [
      "[5] -> [5]\n",
      "[1, 7, 2, 8, 7] -> [1, 2, 7, 7, 8]\n",
      "[4, 3, 2, 1] -> [1, 2, 3, 4]\n",
      "[1, 2, 3, 4] -> [1, 2, 3, 4]\n",
      "[] -> []\n"
     ]
    }
   ],
   "source": [
    "# Run the following code and check your implementation:\n",
    "a=[5]\n",
    "print (a, end=\" -> \")\n",
    "print (merge_sort(a))\n",
    "\n",
    "a=[1,7,2,8,7]\n",
    "print (a, end=\" -> \")\n",
    "print (merge_sort(a))\n",
    "\n",
    "a=[4,3,2,1]\n",
    "print (a, end=\" -> \")\n",
    "print (merge_sort(a))\n",
    "\n",
    "a=[1,2,3,4]\n",
    "print (a, end=\" -> \")\n",
    "print (merge_sort(a))\n",
    "\n",
    "a=[]\n",
    "print (a, end=\" -> \")\n",
    "print (merge_sort(a))"
   ]
  },
  {
   "cell_type": "markdown",
   "metadata": {},
   "source": [
    "# Question 4\n",
    "\n",
    "One often needs to customize how items compare when sorting data. For this, one can provide a custom \"key\" function. Use this feature to sort the list of names by length.\n",
    "\n",
    "For complicated situations, one can not only use a custom key function with Python's sort() but use a custom comparison function. Take a look at https://docs.python.org/3/howto/sorting.html and find how one can use a custom key and how one can write a custom sort comparison function (hint: cmp_to_key).\n",
    "\n",
    "Then modify the compare() function below to sort the names by length (shortest name first) and then alphabetically (for names with the same length)."
   ]
  },
  {
   "cell_type": "code",
   "execution_count": 21,
   "metadata": {},
   "outputs": [
    {
     "name": "stdout",
     "output_type": "stream",
     "text": [
      "['Bob', 'Dave', 'Anna', 'Alice', 'Charlie']\n",
      "['Bob', 'Anna', 'Dave', 'Alice', 'Charlie']\n"
     ]
    }
   ],
   "source": [
    "from functools import cmp_to_key\n",
    "\n",
    "names = ['Alice', 'Dave', 'Anna', 'Bob', 'Charlie']\n",
    "# part 1: sort by a custom key (by length):\n",
    "def compare_lengths(str1, str2):\n",
    "    if len(str1) < len(str2):\n",
    "        return -1\n",
    "    elif len(str1) > len(str2):\n",
    "        return 1\n",
    "    else:\n",
    "        return 0\n",
    "  \n",
    "# sorted_by_length = sorted(names, key = len)\n",
    "# ^ Does same as below\n",
    "sorted_by_length = sorted(names, key = cmp_to_key(compare_lengths))\n",
    "# print(sorted_by_length)\n",
    "# sorted_anonymously = sorted(names, key=lambda names: (len(names),str.casefold(names)))\n",
    "\n",
    "# part 2: sort by length then alphabetically:\n",
    "def compare(str1, str2):\n",
    "    # TODO\n",
    "    lengths_compared = compare_lengths(str1,str2)\n",
    "    if lengths_compared != 0:\n",
    "        return lengths_compared\n",
    "    else:\n",
    "        if str1 == str2:\n",
    "            return 0\n",
    "        elif str1 < str2:\n",
    "            return -1\n",
    "        else:\n",
    "            return 1\n",
    "# - is less than,\n",
    "# 0 is equality\n",
    "# + is for greater than\n",
    "\n",
    "sorted_by_length_then_alpha = sorted(names, key=cmp_to_key(compare))\n",
    "\n",
    "print(sorted_by_length_then_alpha)"
   ]
  }
 ],
 "metadata": {
  "kernelspec": {
   "display_name": "Python 3 (ipykernel)",
   "language": "python",
   "name": "python3"
  },
  "language_info": {
   "codemirror_mode": {
    "name": "ipython",
    "version": 3
   },
   "file_extension": ".py",
   "mimetype": "text/x-python",
   "name": "python",
   "nbconvert_exporter": "python",
   "pygments_lexer": "ipython3",
   "version": "3.9.5"
  },
  "name": "HW03.ipynb"
 },
 "nbformat": 4,
 "nbformat_minor": 4
}
