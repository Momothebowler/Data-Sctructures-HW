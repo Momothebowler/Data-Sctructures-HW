{
 "cells": [
  {
   "cell_type": "markdown",
   "metadata": {},
   "source": [
    "# Homework 03\n",
    "\n",
    "Please fill in: Morgan Schalizki"
   ]
  },
  {
   "cell_type": "code",
   "execution_count": 1,
   "metadata": {},
   "outputs": [
    {
     "name": "stdout",
     "output_type": "stream",
     "text": [
      "x: 5 y: hello\n",
      "x: hello y: 5\n"
     ]
    }
   ],
   "source": [
    "# Note: You can swap the contents of two variables in the following way (this will be useful below):\n",
    "x = 5\n",
    "y = \"hello\"\n",
    "print(\"x:\", x, \"y:\", y)\n",
    "x,y = y,x\n",
    "print(\"x:\", x, \"y:\", y)"
   ]
  },
  {
   "cell_type": "markdown",
   "metadata": {},
   "source": [
    "## Question 1\n",
    "Implement selection sort as discussed in class"
   ]
  },
  {
   "cell_type": "code",
   "execution_count": 49,
   "metadata": {},
   "outputs": [],
   "source": [
    "def selection_sort(arr):\n",
    "    \"\"\" sort the given array in-place (by swapping elements) \n",
    "    using selection sort\"\"\"\n",
    "    n = len(arr)\n",
    "    for i in range(0, n): #Was n-1 for some reason?\n",
    "        # TODO\n",
    "        smallest = i\n",
    "        for j in range(i+1,n):\n",
    "            if arr[j] < arr[smallest]:\n",
    "                smallest = j\n",
    "                \n",
    "        if smallest != i:\n",
    "            arr[smallest],arr[i] = arr[i],arr[smallest]\n",
    "        \n"
   ]
  },
  {
   "cell_type": "code",
   "execution_count": 50,
   "metadata": {},
   "outputs": [
    {
     "name": "stdout",
     "output_type": "stream",
     "text": [
      "[5] -> [5]\n",
      "[1, 7, 2, 8, 7] -> [1, 2, 7, 7, 8]\n",
      "[4, 3, 2, 1] -> [1, 2, 3, 4]\n",
      "[1, 2, 3, 4] -> [1, 2, 3, 4]\n",
      "[] -> []\n"
     ]
    }
   ],
   "source": [
    "# Run the following code and check the output to confirm your implementation is correct:\n",
    "a=[5]\n",
    "print (a, end=\" -> \")\n",
    "selection_sort(a)\n",
    "print (a)\n",
    "\n",
    "a=[1,7,2,8,7]\n",
    "print (a, end=\" -> \")\n",
    "selection_sort(a)\n",
    "print (a)\n",
    "\n",
    "a=[4,3,2,1]\n",
    "print (a, end=\" -> \")\n",
    "selection_sort(a)\n",
    "print (a)\n",
    "\n",
    "a=[1,2,3,4]\n",
    "print (a, end=\" -> \")\n",
    "selection_sort(a)\n",
    "print (a)\n",
    "\n",
    "a=[]\n",
    "print (a, end=\" -> \")\n",
    "selection_sort(a)\n",
    "print (a)"
   ]
  },
  {
   "cell_type": "markdown",
   "metadata": {},
   "source": [
    "## Question 2\n",
    "Implement insertion sort as discussed in class"
   ]
  },
  {
   "cell_type": "code",
   "execution_count": 107,
   "metadata": {},
   "outputs": [],
   "source": [
    "def insertion_sort(arr):\n",
    "    \"\"\" sort the given array in-place (by swapping elements)\n",
    "    using insertion sort\"\"\"\n",
    "    n = len(arr)\n",
    "    for i in range(1, n):\n",
    "        current_place = i-1\n",
    "        while current_place >= 0 and arr[current_place+1] < arr[current_place]:\n",
    "            arr[current_place+1],arr[current_place] = arr[current_place],arr[current_place+1]\n",
    "            current_place -= 1\n",
    "    return arr"
   ]
  },
  {
   "cell_type": "code",
   "execution_count": 108,
   "metadata": {},
   "outputs": [
    {
     "name": "stdout",
     "output_type": "stream",
     "text": [
      "[5] -> [5]\n",
      "[1, 7, 2, 8, 7] -> [1, 2, 7, 7, 8]\n",
      "[4, 3, 2, 1] -> [1, 2, 3, 4]\n",
      "[1, 2, 3, 4] -> [1, 2, 3, 4]\n",
      "[] -> []\n"
     ]
    }
   ],
   "source": [
    "# Run the following code and check the output to confirm your implementation is correct:\n",
    "a=[5]\n",
    "print (a, end=\" -> \")\n",
    "insertion_sort(a)\n",
    "print (a)\n",
    "\n",
    "a=[1,7,2,8,7]\n",
    "print (a, end=\" -> \")\n",
    "insertion_sort(a)\n",
    "print (a)\n",
    "\n",
    "a=[4,3,2,1]\n",
    "print (a, end=\" -> \")\n",
    "insertion_sort(a)\n",
    "print (a)\n",
    "\n",
    "a=[1,2,3,4]\n",
    "print (a, end=\" -> \")\n",
    "insertion_sort(a)\n",
    "print (a)\n",
    "\n",
    "a=[]\n",
    "print (a, end=\" -> \")\n",
    "insertion_sort(a)\n",
    "print (a)"
   ]
  },
  {
   "cell_type": "markdown",
   "metadata": {},
   "source": [
    "## Question 3\n",
    "\n",
    "finish the implementation of merge sort."
   ]
  },
  {
   "cell_type": "code",
   "execution_count": 109,
   "metadata": {},
   "outputs": [
    {
     "ename": "SyntaxError",
     "evalue": "invalid syntax (2756762714.py, line 25)",
     "output_type": "error",
     "traceback": [
      "\u001b[1;36m  Cell \u001b[1;32mIn[109], line 25\u001b[1;36m\u001b[0m\n\u001b[1;33m    result = merge(???,???) # TODO\u001b[0m\n\u001b[1;37m                   ^\u001b[0m\n\u001b[1;31mSyntaxError\u001b[0m\u001b[1;31m:\u001b[0m invalid syntax\n"
     ]
    }
   ],
   "source": [
    "def merge(left, right):\n",
    "    \"\"\" merge the two arrays into a sorted array assuming\n",
    "        left and right are already sorted individually \"\"\"\n",
    "    result = []\n",
    "    while len(result) != len(left) + len(right): # TODO\n",
    "        index_move = 0\n",
    "        if left[len(left)-index_move] < right[index_move]:\n",
    "            result.append(left).append(right)\n",
    "        else:\n",
    "            index_move\n",
    "    return result\n",
    " \n",
    "#               \n",
    "# might have to redo merge due to class\n",
    "#\n",
    "\n",
    "def merge_sort(arr):\n",
    "    \"\"\" sort the given array using merge sort and return \n",
    "        the new result (the original array is unchanged) \"\"\"\n",
    "    \n",
    "    if len(arr)==0:\n",
    "        return []\n",
    "    \n",
    "    # integer division to find the middle index:\n",
    "    mid = len(arr)//2  \n",
    "    \n",
    "    # TODO: recursion\n",
    "    \n",
    "    result = merge(???,???) # TODO\n",
    "    return result"
   ]
  },
  {
   "cell_type": "code",
   "execution_count": 110,
   "metadata": {},
   "outputs": [
    {
     "name": "stdout",
     "output_type": "stream",
     "text": [
      "[5] -> "
     ]
    },
    {
     "ename": "NameError",
     "evalue": "name 'merge_sort' is not defined",
     "output_type": "error",
     "traceback": [
      "\u001b[1;31m---------------------------------------------------------------------------\u001b[0m",
      "\u001b[1;31mNameError\u001b[0m                                 Traceback (most recent call last)",
      "Cell \u001b[1;32mIn[110], line 4\u001b[0m\n\u001b[0;32m      2\u001b[0m a\u001b[38;5;241m=\u001b[39m[\u001b[38;5;241m5\u001b[39m]\n\u001b[0;32m      3\u001b[0m \u001b[38;5;28mprint\u001b[39m (a, end\u001b[38;5;241m=\u001b[39m\u001b[38;5;124m\"\u001b[39m\u001b[38;5;124m -> \u001b[39m\u001b[38;5;124m\"\u001b[39m)\n\u001b[1;32m----> 4\u001b[0m \u001b[38;5;28mprint\u001b[39m (\u001b[43mmerge_sort\u001b[49m(a))\n\u001b[0;32m      6\u001b[0m a\u001b[38;5;241m=\u001b[39m[\u001b[38;5;241m1\u001b[39m,\u001b[38;5;241m7\u001b[39m,\u001b[38;5;241m2\u001b[39m,\u001b[38;5;241m8\u001b[39m,\u001b[38;5;241m7\u001b[39m]\n\u001b[0;32m      7\u001b[0m \u001b[38;5;28mprint\u001b[39m (a, end\u001b[38;5;241m=\u001b[39m\u001b[38;5;124m\"\u001b[39m\u001b[38;5;124m -> \u001b[39m\u001b[38;5;124m\"\u001b[39m)\n",
      "\u001b[1;31mNameError\u001b[0m: name 'merge_sort' is not defined"
     ]
    }
   ],
   "source": [
    "# Run the following code and check your implementation:\n",
    "a=[5]\n",
    "print (a, end=\" -> \")\n",
    "print (merge_sort(a))\n",
    "\n",
    "a=[1,7,2,8,7]\n",
    "print (a, end=\" -> \")\n",
    "print (merge_sort(a))\n",
    "\n",
    "a=[4,3,2,1]\n",
    "print (a, end=\" -> \")\n",
    "print (merge_sort(a))\n",
    "\n",
    "a=[1,2,3,4]\n",
    "print (a, end=\" -> \")\n",
    "print (merge_sort(a))\n",
    "\n",
    "a=[]\n",
    "print (a, end=\" -> \")\n",
    "print (merge_sort(a))"
   ]
  },
  {
   "cell_type": "markdown",
   "metadata": {},
   "source": [
    "# Question 4\n",
    "\n",
    "One often needs to customize how items compare when sorting data. For this, one can provide a custom \"key\" function. Use this feature to sort the list of names by length.\n",
    "\n",
    "For complicated situations, one can not only use a custom key function with Python's sort() but use a custom comparison function. Take a look at https://docs.python.org/3/howto/sorting.html and find how one can use a custom key and how one can write a custom sort comparison function (hint: cmp_to_key).\n",
    "\n",
    "Then modify the compare() function below to sort the names by length (shortest name first) and then alphabetically (for names with the same length)."
   ]
  },
  {
   "cell_type": "code",
   "execution_count": null,
   "metadata": {},
   "outputs": [],
   "source": [
    "import functools\n",
    "\n",
    "names = ['Alice', 'Dave', 'Anna', 'Bob', 'Charlie']\n",
    "print(names)\n",
    "\n",
    "# part 1: sort by a custom key (by length):\n",
    "sorted_by_length = sorted(names, key=????)\n",
    "\n",
    "# part 2: sort by length then alphabetically:\n",
    "def compare(str1, str2):\n",
    "    # TODO\n",
    "    return 1\n",
    "\n",
    "sorted_by_length_then_alpha = sorted(names, key=????)\n",
    "\n",
    "print(sorted_by_length_then_alpha)"
   ]
  }
 ],
 "metadata": {
  "kernelspec": {
   "display_name": "Python 3 (ipykernel)",
   "language": "python",
   "name": "python3"
  },
  "language_info": {
   "codemirror_mode": {
    "name": "ipython",
    "version": 3
   },
   "file_extension": ".py",
   "mimetype": "text/x-python",
   "name": "python",
   "nbconvert_exporter": "python",
   "pygments_lexer": "ipython3",
   "version": "3.9.5"
  },
  "name": "HW03.ipynb"
 },
 "nbformat": 4,
 "nbformat_minor": 4
}
