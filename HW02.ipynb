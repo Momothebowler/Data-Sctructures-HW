{
 "cells": [
  {
   "cell_type": "markdown",
   "metadata": {},
   "source": [
    "# Homework 02\n",
    "\n",
    "Please fill in: Morgan Schalizki"
   ]
  },
  {
   "cell_type": "markdown",
   "metadata": {},
   "source": [
    "The goal of this homework is to understand iterative and recursive algorithms and complexity. We are using Pell Numbers as an example. They are defined as:\n",
    "$$\n",
    "    P_n = \\begin{cases} 0 & n=0 \\\\ 1 & n=1 \\\\ P_{n-2} + 2P_{n-1} & \\text{else} \\end{cases}\n",
    "$$"
   ]
  },
  {
   "cell_type": "markdown",
   "metadata": {},
   "source": [
    "## Question 1\n",
    "\n",
    "Write a function print_elements(l) that prints every element of the list L, one item per line. If an element is a list by itself, recursively call print_elements() for this element instead. To find out if a variable x is a list, use type(x). Note that the function should not return anything!"
   ]
  },
  {
   "cell_type": "code",
   "execution_count": 1,
   "metadata": {},
   "outputs": [
    {
     "name": "stdout",
     "output_type": "stream",
     "text": [
      "1\n",
      "hello\n",
      "3\n",
      "4\n",
      "5\n",
      "6\n",
      "1\n",
      "2\n",
      "3\n"
     ]
    }
   ],
   "source": [
    "def print_elements(L):\n",
    "    for i in L:\n",
    "        if type(i) == list:\n",
    "            print_elements(i)\n",
    "        else:\n",
    "            print(i)\n",
    "\n",
    "print_elements([[1,\"hello\"], 3, [4,5,6],[1,[2,[3]]]])\n"
   ]
  },
  {
   "cell_type": "markdown",
   "metadata": {},
   "source": [
    "## Question 2\n",
    "\n",
    "Write pell_recursive(n) that returns the n-th Pell number as a recursive function using the definition above."
   ]
  },
  {
   "cell_type": "code",
   "execution_count": 2,
   "metadata": {},
   "outputs": [
    {
     "name": "stdout",
     "output_type": "stream",
     "text": [
      "[0, 1, 2, 5, 12, 29, 70, 169, 408, 985, 2378, 5741, 13860, 33461, 80782, 195025, 470832, 1136689, 2744210, 6625109]\n"
     ]
    }
   ],
   "source": [
    "def pell_recursive(n):\n",
    "    if n <= 1:\n",
    "        return n\n",
    "    #P_n-2 + 2Pn-1\n",
    "    return 2*pell_recursive(n-1) + pell_recursive(n-2)\n",
    "\n",
    "print ([pell_recursive(n) for n in range(0,20)])"
   ]
  },
  {
   "cell_type": "markdown",
   "metadata": {},
   "source": [
    "### Question 3\n",
    "Write a function pell_recursive_cost(n) that returns the total number of times the function pell_recursive() is called for a given n (it should be 1 for n=0 and n=1, and 3 for n=2, ...). pell_recursive_cost() is itself a recursive function (that does not use pell_recursive()). What sequence is that (see https://oeis.org/)? What is the complexity of pell_recursive(n)? Is it polynomial?"
   ]
  },
  {
   "cell_type": "code",
   "execution_count": 3,
   "metadata": {},
   "outputs": [
    {
     "name": "stdout",
     "output_type": "stream",
     "text": [
      "[1, 1, 3, 5, 9, 15, 25, 41, 67, 109, 177, 287, 465, 753, 1219, 1973, 3193, 5167, 8361, 13529]\n",
      "  [0, 2, 2, 4, 6, 10, 16, 26, 42, 68, 110, 178, 288, 466, 754, 1220, 1974, 3194, 5168]\n"
     ]
    }
   ],
   "source": [
    "import time\n",
    "def pell_recursive_cost(n):\n",
    "    start = time.time()\n",
    "    calls = 0\n",
    "    if n <= 1:\n",
    "        return 1\n",
    "    def pell_recursive(n):\n",
    "        nonlocal calls\n",
    "        calls += 1\n",
    "        if n <= 1:\n",
    "            return n\n",
    "        #P_n-2 + 2Pn-1\n",
    "        return 2*pell_recursive(n-1) + pell_recursive(n-2)\n",
    "    pell_recursive(n)\n",
    "    return calls\n",
    "\n",
    "print (s:=[pell_recursive_cost(n) for n in range(0,20)])\n",
    "print(f\"  {[s[i+1] - s[i] for i in range(len(s)-1) if i < len(s)]}\") # prints the differences in step counts\n",
    "# ^ is used to show the complexity a bit clearer.\n",
    "# this sequence is known as a(n) = a(n-1) + a(n-2) + 1, with a(0) = a(1) = 1\n",
    "# complexity is 2^n\n",
    "# complexity is not polynomial\n",
    "# we see this complexity because we run roughly n - 1 loops\n",
    "# and for each of these loops we run the function recursively twice so roughly \n",
    "# 2^(n-1) calls of our function "
   ]
  },
  {
   "cell_type": "markdown",
   "metadata": {},
   "source": [
    "## Question 4\n",
    "Write a function pell_iterative(n) that returns the n-th Pell number using an iterative approach (that does not recompute P_2 more than once when computing P_5 for example and that does not require O(n) storage). Check your result."
   ]
  },
  {
   "cell_type": "code",
   "execution_count": 4,
   "metadata": {},
   "outputs": [
    {
     "name": "stdout",
     "output_type": "stream",
     "text": [
      "[0, 1, 2, 5, 12, 29, 70, 169, 408, 985, 2378, 5741, 13860, 33461, 80782, 195025, 470832, 1136689, 2744210, 6625109]\n"
     ]
    }
   ],
   "source": [
    "def pell_iterative(n):\n",
    "    if n <= 1:\n",
    "        return n\n",
    "    a = 1\n",
    "    b = 0\n",
    "    p = 1\n",
    "    for i in range(n-1):\n",
    "        p = 2*a + b\n",
    "        b = a\n",
    "        a = p\n",
    "    return p\n",
    "\n",
    "print ([pell_iterative(n) for n in range(0,20)])"
   ]
  },
  {
   "cell_type": "markdown",
   "metadata": {},
   "source": [
    "## Question 5\n",
    "Write a function pell_iterative_cost(n) that returns total the number of additions and multiplications done to compute pell_iterative(n). What is the complexity of pell_iterative(n)?"
   ]
  },
  {
   "cell_type": "code",
   "execution_count": 5,
   "metadata": {},
   "outputs": [
    {
     "name": "stdout",
     "output_type": "stream",
     "text": [
      "[0, 0, 2, 4, 6, 8, 10, 12, 14, 16, 18, 20, 22, 24, 26, 28, 30, 32, 34, 36]\n"
     ]
    }
   ],
   "source": [
    "def pell_iterative_cost(n):\n",
    "    count = 0\n",
    "    if n <= 1:\n",
    "        return count\n",
    "    a = 1\n",
    "    b = 0\n",
    "    p = 1\n",
    "    for i in range(n-1):\n",
    "        p = 2*a + b\n",
    "        count += 2 # 2*a yields 1 and #2*a + b yields 2\n",
    "        b = a\n",
    "        a = p\n",
    "    return count\n",
    "\n",
    "print([pell_iterative_cost(n) for n in range(0,20)])\n",
    "\n",
    "# complexity is: O(n) as each step (the 0 to 20) it loops n - 1 times for n > 1"
   ]
  },
  {
   "cell_type": "markdown",
   "metadata": {},
   "source": [
    "## Question 6\n",
    "Look up Pell number on wikipedia and find the direct formula and implement it as pell_direct(n) (you should round your answer using round()). Find the smallest n where the direct formula is no longer accurate. Explain why."
   ]
  },
  {
   "cell_type": "code",
   "execution_count": 6,
   "metadata": {},
   "outputs": [
    {
     "name": "stdout",
     "output_type": "stream",
     "text": [
      "[0, 1, 2, 5, 12, 29, 70, 169, 408, 985, 2378, 5741, 13860, 33461, 80782, 195025, 470832, 1136689, 2744210, 6625109]\n"
     ]
    }
   ],
   "source": [
    "import math # needed for math.sqrt()\n",
    "\n",
    "def pell_direct(n):\n",
    "    return round(((1.0 + math.sqrt(2))**n - (1.0 - math.sqrt(2))**2)/(2.0*math.sqrt(2))) # TODO: replace this\n",
    "\n",
    "print ([pell_direct(n) for n in range (0,20) ])"
   ]
  },
  {
   "cell_type": "code",
   "execution_count": 7,
   "metadata": {},
   "outputs": [
    {
     "name": "stdout",
     "output_type": "stream",
     "text": [
      "differ at 39 where pell_direct yields 299713796309064 and pell_iterative yields 299713796309065\n"
     ]
    }
   ],
   "source": [
    "# somehow compare pell_direct(n) and pell_iterative(n) and find smallest n where they differ\n",
    "\n",
    "i = 0\n",
    "while pell_direct(i) == pell_iterative(i):\n",
    "    i += 1\n",
    "print(f\"differ at {i} where pell_direct yields {pell_direct(i)} and pell_iterative yields {pell_iterative(i)}\")\n",
    "\n",
    "# why does this happen for this n?\n",
    "# This happens at this n because we get to our 15-17 digit accurate float numbers and due to the sqrt(2)\n",
    "# in direct method it then diverges from the actual number since our accuracy and precision starts to be loss\n",
    "# as we go past the number of accurate digits"
   ]
  },
  {
   "cell_type": "markdown",
   "metadata": {},
   "source": [
    "## Question 7\n",
    "Observe the time it takes to compute $P_{10}, P_{20}, P_{30}$ (There is nothing for you to do here except running the following block)"
   ]
  },
  {
   "cell_type": "code",
   "execution_count": 9,
   "metadata": {},
   "outputs": [
    {
     "name": "stdout",
     "output_type": "stream",
     "text": [
      "for n = 10 :\n",
      "18.5 µs ± 1.48 µs per loop (mean ± std. dev. of 7 runs, 100,000 loops each)\n",
      "838 ns ± 51.1 ns per loop (mean ± std. dev. of 7 runs, 1,000,000 loops each)\n",
      "982 ns ± 75 ns per loop (mean ± std. dev. of 7 runs, 1,000,000 loops each)\n",
      "for n = 20 :\n",
      "2.23 ms ± 206 µs per loop (mean ± std. dev. of 7 runs, 100 loops each)\n",
      "2.05 µs ± 443 ns per loop (mean ± std. dev. of 7 runs, 1,000,000 loops each)\n",
      "866 ns ± 44.2 ns per loop (mean ± std. dev. of 7 runs, 1,000,000 loops each)\n",
      "for n = 30 :\n",
      "254 ms ± 10.4 ms per loop (mean ± std. dev. of 7 runs, 1 loop each)\n",
      "2.35 µs ± 73.1 ns per loop (mean ± std. dev. of 7 runs, 100,000 loops each)\n",
      "971 ns ± 33.5 ns per loop (mean ± std. dev. of 7 runs, 1,000,000 loops each)\n"
     ]
    }
   ],
   "source": [
    "for n in [10,20,30]:\n",
    "    print (\"for n =\",n,\":\")\n",
    "    %timeit pell_recursive(n)\n",
    "    %timeit pell_iterative(n)\n",
    "    %timeit pell_direct(n)"
   ]
  }
 ],
 "metadata": {
  "kernelspec": {
   "display_name": "Python 3 (ipykernel)",
   "language": "python",
   "name": "python3"
  },
  "language_info": {
   "codemirror_mode": {
    "name": "ipython",
    "version": 3
   },
   "file_extension": ".py",
   "mimetype": "text/x-python",
   "name": "python",
   "nbconvert_exporter": "python",
   "pygments_lexer": "ipython3",
   "version": "3.9.5"
  }
 },
 "nbformat": 4,
 "nbformat_minor": 4
}
