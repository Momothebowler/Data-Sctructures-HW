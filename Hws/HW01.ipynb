{
 "cells": [
  {
   "cell_type": "markdown",
   "metadata": {},
   "source": [
    "# Homework 01\n",
    "\n",
    "Please fill in your name: Morgan Schalizki"
   ]
  },
  {
   "cell_type": "markdown",
   "metadata": {},
   "source": [
    "## Question 0\n",
    "\n",
    "Fill in your name at the top and complete the instructions for the questions below. You need to fill in blanks ________ and write code (sections often contain a comment that begins with \"TODO\", which you should remove). When you are done, download the file as a .ipynb and submit on Canvas.\n",
    "\n",
    "Before starting with this assignment, open and work through \"python-intro.ipynb\" and read up on things you don't understand. See the Python Tutorial PDF on Canvas for more information."
   ]
  },
  {
   "cell_type": "markdown",
   "metadata": {},
   "source": [
    "## Question 1\n",
    "I demonstrated in class that the integer data type in Python is not a typical 32 or 64 bit integer with a largest value of $2^{32}$ or $2^{64}$ but basically unlimited in size.\n",
    "\n",
    "Find out the format Python is using to store floating point numbers like 3.4 (unlimited precision? What IEEE floating point standard is used, 32 or 64 or something else? Write your answer below) and do a computation that demonstrates that this is true.    "
   ]
  },
  {
   "cell_type": "code",
   "execution_count": 80,
   "metadata": {},
   "outputs": [
    {
     "name": "stdout",
     "output_type": "stream",
     "text": [
      "sys.float_info(max=1.7976931348623157e+308, max_exp=1024, max_10_exp=308, min=2.2250738585072014e-308, min_exp=-1021, min_10_exp=-307, dig=15, mant_dig=53, epsilon=2.220446049250313e-16, radix=2, rounds=1)\n",
      "1/10 with 55 digits: 0.1000000000000000055511151231257827021181583404541015625\n",
      "1/10 with 60 digits: 0.100000000000000005551115123125782702118158340454101562500000\n",
      "3602879701896397 / 2 ** 55 = 0.100000000000000005551115123125782702118158340454101562500000\n",
      "1/10 + 1/3 = 0.43333333333333335\n",
      "A float takes up 24 bytes\n",
      "there are 17 digits in 1/10 + 1/3 in python\n",
      "1/3 is stored as: 0.3333333333333333 in python\n",
      "there are 16 digits in 1/3 in python\n"
     ]
    }
   ],
   "source": [
    "import sys\n",
    "x=3.4\n",
    "\n",
    "\n",
    "# the number format \"float\" is known as: double with 64 bits in total\n",
    "\n",
    "\n",
    "# 52 bits for the number\n",
    "# 1 for the sign\n",
    "# and 11 bits for the exponent\n",
    "# https://pythonnumericalmethods.studentorg.berkeley.edu/notebooks/chapter09.02-Floating-Point-Numbers.html\n",
    "# multiple sources confer with above\n",
    "\n",
    "# a python object of type float consumes how many bytes? 24 bytes (where 8 are the decimals and 16 for python object)(?)\n",
    "\n",
    "# Show that your statement above is correct using some expression or\n",
    "# computation that shows the precision of the underlying format:\n",
    "\n",
    "\n",
    "# We get 53 bits of precision or 16/17 digits stored \n",
    "\n",
    "print(sys.float_info)\n",
    "\n",
    "print(f\"1/10 with 55 digits: {1/10:.55f}\")\n",
    "print(f\"1/10 with 60 digits: {1/10:.60f}\")\n",
    "s=3602879701896397 / 2 ** 55\n",
    "# Note 3602879701896397 is 16 digits\n",
    "print(f\"3602879701896397 / 2 ** 55 = {'{0:.60f}'.format(s)}\")\n",
    "\n",
    "float_size = 1/10 + 1/3\n",
    "print(f\"1/10 + 1/3 = {float_size}\")\n",
    "print(f\"A float takes up {sys.getsizeof(float_size)} bytes\")\n",
    "print(f\"there are {len(str(float_size))-2} digits in 1/10 + 1/3 in python\") # removing first 0 and decimal point\n",
    "print(f\"1/3 is stored as: {1/3} in python\")\n",
    "print(f\"there are {len(str(1/3))-2} digits in 1/3 in python\")\n",
    "\n",
    "\n",
    "# While 1/10, 1/3 can yield up to 55/6 digits, we still only have 53 bits\n",
    "# https://docs.python.org/3/tutorial/floatingpoint.html#floating-point-arithmetic-issues-and-limitations\n",
    "# Explained in python docs, but my short understanding is that\n",
    "# due to IEEE754 standards we use 53 bits and then when calculating N for J ~= 2 ** N / 10\n",
    "# we find an upper bound roughly where N <= 56\n",
    "\n",
    "\n",
    "# Bonus: why do you think Python uses a fixed size floating point\n",
    "# format, but has its own unlimited int format?\n",
    "#\n",
    "# Suggestion 1: (Large Data)\n",
    "# There is a tendency to have large data sets and such to loop over and those are indexed by ints\n",
    "# Thus ints have more functionality for large data along with being computational more often than floats\n",
    "# (+) anything we need a float for we could do with ints and then convert back to a float if needed\n",
    "# So we save floats for special cases of small data\n",
    "#   \n",
    "# Suggestion 2: (Hardware limitations)\n",
    "# Probably due to computers having an easier time computing ints\n",
    "# When doing floating point math we'd have to convert to int or do other math (thus making floats specially stored values)\n",
    "# which yields a loss since computer compute in binary and ints can be directly computed in binary\n",
    "# Thus a fixed size is to ease computational burden and memory storage (thus simply a hardware constraint)\n",
    "# Irrational numbers are such numbers that would overgo our maximal memory allowance if allowed.\n",
    "# Ints (unless forced x += 1 in an infinite loop) don't require infinite memory, but floats for 1/3 would\n",
    "# require infinite memory as we'd have an infinite number of 3's in 0.3333... but computers are finite in storage so we cap\n",
    "# the number of digits\n",
    "#\n",
    "# Suggestion 3: IEEE754 + python:\n",
    "# All decimals/floats are stored in binary/base 2, which makes it extremely difficult to store decimals."
   ]
  },
  {
   "cell_type": "markdown",
   "metadata": {},
   "source": [
    "## Question 2\n",
    "Write a function hey_ho() with arguments start and end that prints the numbers starting from start to end (inclusive) in a single line each. If the number is divisible by 3, print \"hey!\" instead of the number, if the number is divisible by 5 print \"ho!\". Finally, if it is divisible by both, print \"GO Tigers!\" instead.\n",
    "Example for hey_ho(7,16):"
   ]
  },
  {
   "cell_type": "raw",
   "metadata": {},
   "source": [
    "7\n",
    "8\n",
    "hey!\n",
    "ho!\n",
    "11\n",
    "hey!\n",
    "13\n",
    "14\n",
    "GO Tigers!"
   ]
  },
  {
   "cell_type": "code",
   "execution_count": 81,
   "metadata": {},
   "outputs": [
    {
     "name": "stdout",
     "output_type": "stream",
     "text": [
      "7\n",
      "8\n",
      "hey!\n",
      "ho!\n",
      "11\n",
      "hey!\n",
      "13\n",
      "14\n",
      "GO Tigers!\n"
     ]
    }
   ],
   "source": [
    "def hey_ho(start, end):\n",
    "    for i in range(start,end+1):\n",
    "        if (i) % 3==0 and (i) % 5 == 0:\n",
    "            print(\"GO Tigers!\")\n",
    "        elif (i) % 3 == 0:\n",
    "            print(\"hey!\")\n",
    "        elif (i) % 5 == 0:\n",
    "            print(\"ho!\")\n",
    "        else:\n",
    "            print(i)\n",
    "        \n",
    "    \n",
    "hey_ho(7,15)"
   ]
  },
  {
   "cell_type": "markdown",
   "metadata": {},
   "source": [
    "# Question 3\n",
    "\n",
    "We discussed that the size of the number of allocated entries inside a Python \"list\" often is larger than absolutely necessary. Consider the case of adding one element at a time to an empty list x until it contains 100 elements. Based on the code in \"python-list-layout.ipynb\", print the final allocated size and count how many allocations happen during the computation by comparing the allocated size to the previous allocated size after each element is added."
   ]
  },
  {
   "cell_type": "code",
   "execution_count": 82,
   "metadata": {},
   "outputs": [
    {
     "name": "stdout",
     "output_type": "stream",
     "text": [
      "There are 100 1's in our array with an allocated size of 2932775568\n",
      "Reallocated 11 times once one object (1's) was appended, otherwise 12 times once we added the first object.\n",
      "i.e. we have 11 allocations starting from [1] and 12 starting from []\n"
     ]
    }
   ],
   "source": [
    "import ctypes\n",
    "\n",
    "class ListStruct(ctypes.Structure): # struct PyListObject\n",
    "    _fields_ = [(\"ob_refcnt\", ctypes.c_long),\n",
    "                (\"ob_type\", ctypes.c_void_p),\n",
    "                (\"ob_size\", ctypes.c_ulong),\n",
    "                (\"ob_item\", ctypes.c_long),  # PyObject** pointer cast to long\n",
    "                (\"allocated\", ctypes.c_ulong)]\n",
    "\n",
    "x = []\n",
    "\n",
    "info = ListStruct.from_address(id(x))\n",
    "reallocations = 0\n",
    "old_allocated = info.allocated\n",
    "for i in range(100):\n",
    "    x.append(1)\n",
    "    info = ListStruct.from_address(id(x))\n",
    "    new_allocated = info.allocated\n",
    "    if(new_allocated != old_allocated):\n",
    "        old_allocated = new_allocated\n",
    "        reallocations +=1\n",
    "info = ListStruct.from_address(id(x))\n",
    "new_allocated = info.allocated\n",
    "if(new_allocated != old_allocated):\n",
    "    reallocations += 1\n",
    "\n",
    "print(f\"There are {info.ob_size} 1's in our array with an allocated size of {info.allocated}\")\n",
    "print(f\"Reallocated {reallocations} times once one object (1's) was appended, otherwise 12 times once we added the first object.\")\n",
    "print(\"i.e. we have 11 allocations starting from [1] and 12 starting from []\")\n"
   ]
  }
 ],
 "metadata": {
  "kernelspec": {
   "display_name": "Python 3 (ipykernel)",
   "language": "python",
   "name": "python3"
  },
  "language_info": {
   "codemirror_mode": {
    "name": "ipython",
    "version": 3
   },
   "file_extension": ".py",
   "mimetype": "text/x-python",
   "name": "python",
   "nbconvert_exporter": "python",
   "pygments_lexer": "ipython3",
   "version": "3.11.3"
  }
 },
 "nbformat": 4,
 "nbformat_minor": 4
}
